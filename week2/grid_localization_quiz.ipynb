{
 "cells": [
  {
   "cell_type": "markdown",
   "metadata": {},
   "source": [
    "# Tutorial 2: Grid Localization"
   ]
  },
  {
   "cell_type": "markdown",
   "metadata": {},
   "source": [
    "Welcome to week 2 of the tutorials. Last week we had a refresher course in working with python, this week we will be looking at grid localization."
   ]
  },
  {
   "cell_type": "markdown",
   "metadata": {},
   "source": [
    "## 1 - Packages"
   ]
  },
  {
   "cell_type": "code",
   "execution_count": 1,
   "metadata": {},
   "outputs": [],
   "source": [
    "import numpy as np\n",
    "np.set_printoptions(precision=3)\n",
    "import matplotlib.pyplot as plt\n",
    "import copy"
   ]
  },
  {
   "cell_type": "markdown",
   "metadata": {},
   "source": [
    "## 2 - Outline of the Tutorial"
   ]
  },
  {
   "cell_type": "markdown",
   "metadata": {},
   "source": [
    "Robots encounter many uncertainties when operating in the real world. These uncertainties are contributed to from a number of factors, such as unpredictable environments, sensor limitations and robot actuations. For example, a robot moving through its environment will accumulate errors in odometry, gradually making it less certain of where it is.\n",
    "\n",
    "A classic example of this problem is in robot localization, where a robot must estimate it's coordinates relative to an external reference frame. The robot is given a map of its environment, but in order to localize itself relative to this map it needs sensor input. Learning maps is a \"chicken-and-egg\" problem, for which it is often referred to as  *simultaneous localization and mapping (SLAM)*.\n",
    " \n",
    "Some of the factors influencing the difficulty of a SLAM problem are:\n",
    "* Size - The larger the environment relative to the robot’s perceptual range, the more difficult it is to acquire a map.\n",
    "* Noise in perception and actuation - If robot sensors and actuators were noise-free, mapping would be a simple problem. The larger the noise, the more difficult the problem.\n",
    "* Perceptual ambiguity - The more frequently different places look alike, the more difficult it is to establish correspondence between different locations traversed at different points in time."
   ]
  },
  {
   "cell_type": "markdown",
   "metadata": {},
   "source": [
    "### 2.1 - Grid Map"
   ]
  },
  {
   "cell_type": "markdown",
   "metadata": {},
   "source": [
    "Localization is a key problem in robotics and is often filled with uncertainties. Grid localization uses a histogram filter to update the *belief*. Histogram filters decompose the state space into finitely many regions and represents each region as a single probability. The probabilistic paradigm represents the robot’s\n",
    "momentary belief by a probability density function over the space of all locations i.e. grid cells. Formally, the belief, $bel(x_t)$ is the estimate of the robot's position in space, $x_t$ at a given time, $t$. This can be summarized by the equation below:\n",
    "\n",
    "$bel(x_t)$ = {$p_{k,t}$}\n",
    "\n",
    "Where {$p_{k,t}$} is the set of probabilities over a robot positions $x_k$ at time, $t$. For grid localization, we decompose the position into discrete cells.  In the example below, we can see the map which has been discretized into a (3 x 6) matrix. "
   ]
  },
  {
   "cell_type": "markdown",
   "metadata": {},
   "source": [
    "<img src=\"images/grid.png\">"
   ]
  },
  {
   "cell_type": "markdown",
   "metadata": {},
   "source": [
    "### 2.2 - Grid Map with Beliefs"
   ]
  },
  {
   "cell_type": "markdown",
   "metadata": {},
   "source": [
    "The grid map below shows the belief or probability distribution that the robot is in a particular cell, with the more saturated color indicating a higher probability. \n",
    "Therefore, {$p_{k,t}$} is the probability of being in each cell within a grid map."
   ]
  },
  {
   "cell_type": "markdown",
   "metadata": {},
   "source": [
    "<img src=\"images/grid_heat_map.png\">"
   ]
  },
  {
   "cell_type": "markdown",
   "metadata": {},
   "source": [
    "### 2.3 - Sensing and Action"
   ]
  },
  {
   "cell_type": "markdown",
   "metadata": {},
   "source": [
    "The image below shows the iterative process by which the robot 'moves' and 'senses'. The robot gains a better understanding of where it is in the world as more of these iterations are completed."
   ]
  },
  {
   "cell_type": "markdown",
   "metadata": {},
   "source": [
    "<img src=\"images/sense_move_act.png\">"
   ]
  },
  {
   "cell_type": "markdown",
   "metadata": {},
   "source": [
    "**Actions:** \n",
    "* Actions are denoted $u_t$.\n",
    "* The agent can move one square up, down, left or right.\n",
    "* The agent cannot move out of the grid.\n",
    "* Occasionally, the agent fails to move to the desired location. This occurs with a given probability, *actionFailsProb*, summarized formally in the motion model equation: $ p(x_{k, t+1}$ | $ x_{k, t}, u_t $). Where $x_{k, t+1}$ is the probability distribution for positons in the next time step after an action $u_t$.\n",
    "\n",
    "\n",
    "**Sensing:**\n",
    "* Measurements are denoted $z_t$.\n",
    "* Here, we assume that each location in the grid is either 'free' or 'occupied'.  \n",
    "* The agent can sense if there is a cow in a cell with a given probability, *senseFailsProb*. This is expressed formally by the measurement model $ p(z_t$ | $ x_{k, t}) $. Where the proability of measuring $z_t$ given the current probabilities of being in a particular cell, $x_{k, t}$."
   ]
  },
  {
   "cell_type": "markdown",
   "metadata": {},
   "source": [
    "### 2.4 - Occupancy Grid"
   ]
  },
  {
   "cell_type": "markdown",
   "metadata": {},
   "source": [
    "<img src=\"images/grid_cows.png\">"
   ]
  },
  {
   "cell_type": "markdown",
   "metadata": {},
   "source": [
    "## 3 - Define World"
   ]
  },
  {
   "cell_type": "code",
   "execution_count": 26,
   "metadata": {},
   "outputs": [],
   "source": [
    "class GridWorld(object):\n",
    "    \"\"\"\n",
    "    Gridworld object defines how the robot senses and moves within\n",
    "    the grid map\n",
    "    \"\"\"\n",
    "    def __init__(self):\n",
    "        \"\"\"\n",
    "        Initializes robot occupancy map, current position/state, action failure\n",
    "        probability and sensor failure possibility\n",
    "        \n",
    "        Arguments:\n",
    "        self.occupancyMap -- map of the occupancy grid in the image above. 3x6\n",
    "        numpy array showing occupied cells\n",
    "        self.map -- map showing the current position of the robot in the map\n",
    "        self.state -- current position of the robot within the grid map. [x,y]\n",
    "        self.actionFailsProb -- probability the action fails \n",
    "        self.state -- probability the sensor fails\n",
    "        \"\"\"\n",
    "        self.map = np.zeros((3,6),dtype=bool)\n",
    "        \n",
    "        self.occupancyMap = self.map\n",
    "        self.occupancyMap = np.array([[1,1,0,0,0,1],\n",
    "                                      [0,0,1,1,0,1],\n",
    "                                      [0,0,1,0,1,0]], dtype=bool)\n",
    "        \n",
    "        self.state = np.array([1 , 0])\n",
    "        self.actionFailsProb = 0.1\n",
    "        self.senseFailsProb = 0.1\n",
    "        \n",
    "    def step(self, action):\n",
    "        \"\"\"\n",
    "        Defines the rules for moving within the grid\n",
    "        \n",
    "        Arguments:\n",
    "        self -- (1, 2) numpy array of the robot's current position in the grid\n",
    "        action -- the direction for the robot to move e.g. \"r\" for right\n",
    "        \n",
    "        Returns:\n",
    "        updates self.state after the action\n",
    "        \"\"\"\n",
    "        actionFails = np.random.rand() < self.actionFailsProb\n",
    "        \n",
    "        if actionFails:\n",
    "            pass\n",
    "        else:\n",
    "            if action == \"r\":\n",
    "                self.state[1] = np.minimum(self.state[1] + 1,  self.map.shape[1] - 1)\n",
    "            elif action == \"l\":\n",
    "                self.state[1] = np.maximum(self.state[1] - 1, 0)\n",
    "            # Implement the action steps for up and down actions\n",
    "            ### START CODE HERE ### (≈ 4 lines of code)\n",
    "            elif action == \"d\":\n",
    "                self.state[0] = np.minimum(self.state[0] + 1,  self.map.shape[0] - 1)\n",
    "            elif action == \"u\":\n",
    "                self.state[0] = np.maximum(self.state[0] - 1, 0)\n",
    "            ### END CODE HERE ###\n",
    "                \n",
    "    def sense(self):\n",
    "        \"\"\"\n",
    "        Defines the rules for sensing with a probability the sensor fails\n",
    "        \"\"\"\n",
    "        \n",
    "        # Implement the probability the sensor fails\n",
    "        ### START CODE HERE ### (≈ 1 line of code)\n",
    "        senseFails = np.random.rand() < self.senseFailsProb\n",
    "        ### END CODE HERE ###\n",
    "        \n",
    "        trueSense = self.occupancyMap[self.state[0], self.state[1]]\n",
    "        if senseFails:\n",
    "            return not(trueSense)\n",
    "        else:\n",
    "            return trueSense\n",
    "        "
   ]
  },
  {
   "cell_type": "code",
   "execution_count": 27,
   "metadata": {},
   "outputs": [
    {
     "name": "stdout",
     "output_type": "stream",
     "text": [
      "Initial position: \n",
      "\n",
      "[1 0]\n"
     ]
    },
    {
     "data": {
      "image/png": "[encoded data removed]",
      "text/plain": [
       "<Figure size 432x288 with 1 Axes>"
      ]
     },
     "metadata": {
      "needs_background": "light"
     },
     "output_type": "display_data"
    },
    {
     "name": "stdout",
     "output_type": "stream",
     "text": [
      "Final position: \n",
      "\n",
      "[1 3]\n"
     ]
    },
    {
     "data": {
      "image/png": "[encoded data removed]",
      "text/plain": [
       "<Figure size 432x288 with 1 Axes>"
      ]
     },
     "metadata": {
      "needs_background": "light"
     },
     "output_type": "display_data"
    }
   ],
   "source": [
    "# Test the step function\n",
    "\n",
    "worldTest = GridWorld()\n",
    "positionMap = copy.copy(worldTest.map)\n",
    "positionMap[worldTest.state[0],worldTest.state[1]] = 1\n",
    "\n",
    "print(\"Initial position: \\n\")\n",
    "print(worldTest.state)\n",
    "\n",
    "# Plotting the initial position on map\n",
    "ax = plt.gca()\n",
    "ax.set_yticks(np.arange(0, 3, 1));\n",
    "extent = (0, positionMap.shape[1], positionMap.shape[0], 0)\n",
    "plt.imshow(positionMap, extent=extent, cmap='hot')\n",
    "plt.grid(color='w', linestyle='-', linewidth=2)\n",
    "plt.show()\n",
    "\n",
    "# Move the robot from initial position [1, 0] to [0, 3]\n",
    "### START CODE HERE ### (≈ 4 lines of code)\n",
    "worldTest.step(\"r\")\n",
    "worldTest.step(\"r\")\n",
    "worldTest.step(\"r\")\n",
    "worldTest.step(\"u\")\n",
    "### END CODE HERE ### \n",
    "\n",
    "print(\"Final position: \\n\")\n",
    "print(worldTest.state)\n",
    "\n",
    "positionMap = copy.copy(worldTest.map)\n",
    "positionMap[worldTest.state[0],worldTest.state[1]] = 1\n",
    "\n",
    "# Plotting the final position on map\n",
    "ax = plt.gca()\n",
    "ax.set_yticks(np.arange(0, 3, 1));\n",
    "extent = (0, positionMap.shape[1], positionMap.shape[0], 0)\n",
    "plt.imshow(positionMap, extent=extent, cmap='hot')\n",
    "plt.grid(color='w', linestyle='-', linewidth=2)\n",
    "plt.show()"
   ]
  },
  {
   "cell_type": "code",
   "execution_count": 28,
   "metadata": {},
   "outputs": [],
   "source": [
    "class StateEstimator(object):\n",
    "    \"\"\"\n",
    "    Contains the methods required to update the belief based on the \n",
    "    probability the action or sensor fails\n",
    "    \n",
    "    \"\"\"\n",
    "    def __init__(self, world):\n",
    "        \"\"\"\n",
    "        Initializes the object, selecting either the occupancy map or grid map          \n",
    "        \"\"\"\n",
    "        \n",
    "        self.actionFailsProb = world.actionFailsProb\n",
    "        self.senseFailsProb = world.senseFailsProb\n",
    "        \n",
    "        # Using the occupancy map         \n",
    "        self.map = world.occupancyMap\n",
    "        \n",
    "        # Initialize belief matrix, normalized and equal probability for each cell\n",
    "        self.belief = np.ones(world.map.shape)/np.prod(world.map.shape) \n",
    "        \n",
    "    def actionUpdate(self, action):\n",
    "        \"\"\"\n",
    "        Calculates the new belief for each action based on the probability the action might fail\n",
    "        \n",
    "        Variables:\n",
    "        self.belief -- belief from the previous time step\n",
    "        newBelief -- updated belief\n",
    "        action -- string which states the direction the robot moves\n",
    "        \"\"\"\n",
    "        \n",
    "        newBelief = np.zeros(self.belief.shape, dtype=float)\n",
    "        \n",
    "        if action == \"r\":\n",
    "            # New belief for column 0 is the old belief * the probability action has failed.\n",
    "            newBelief[:, 0] = self.belief[:,0]*self.actionFailsProb \n",
    "            \n",
    "            # New belief for columns 1-4 is the old belief * the probability the previous action \n",
    "            # failed (and the robot is still in columns 1-4) + old belief * the probability the \n",
    "            # previous action didn't fail and robot was in columns 0-3.\n",
    "            newBelief[:, 1:-1] = (self.belief[:, 1:-1]*self.actionFailsProb + \n",
    "                                  self.belief[:, 0:-2]*(1-self.actionFailsProb))\n",
    "            \n",
    "            # New belief for column 5 is the old belief * the probability the robot was in this cell \n",
    "            # in the last time step and successfully moved right, leaving the robot back in the same \n",
    "            # position (hence probability of one) + the old belief * the probability the robot was in \n",
    "            # column 4 in the previous time step (meaning previous action didn't fail)\n",
    "            newBelief[:, -1] = (self.belief[:,-1]*1 + \n",
    "                                self.belief[:, -2]*(1-self.actionFailsProb))\n",
    "            \n",
    "            # Updating self.belief to the newBelief\n",
    "            self.belief = newBelief\n",
    "            \n",
    "        if action == \"l\":\n",
    "            newBelief[:, -1] = self.belief[:,-1]*self.actionFailsProb \n",
    "\n",
    "            newBelief[:, 1:-1] = (self.belief[:, 1:-1]*self.actionFailsProb + \n",
    "                                  self.belief[:, 2:]*(1-self.actionFailsProb))\n",
    "\n",
    "            newBelief[:, 0] = (self.belief[:,0]*1 + \n",
    "                               self.belief[:, 1]*(1-self.actionFailsProb))\n",
    "            \n",
    "            self.belief = newBelief\n",
    "        \n",
    "        if action == \"u\":\n",
    "            newBelief[-1, :] = self.belief[-1,:]*self.actionFailsProb\n",
    "                       \n",
    "            newBelief[1,:] = (self.belief[1,:]*self.actionFailsProb + \n",
    "                              self.belief[-1,:]*(1-self.actionFailsProb))\n",
    "           \n",
    "            newBelief[0, :] = self.belief[0,:]*1 + self.belief[1,:]*(1-self.actionFailsProb)\n",
    " \n",
    "            self.belief = newBelief\n",
    "            \n",
    "        if action == \"d\":\n",
    "\n",
    "            newBelief[0, :] = self.belief[0,:]*self.actionFailsProb\n",
    "                       \n",
    "            newBelief[1,:] = (self.belief[1,:]*self.actionFailsProb + \n",
    "                              self.belief[0,:]*(1-self.actionFailsProb))\n",
    "           \n",
    "            newBelief[-1, :] = self.belief[-1,:]*1 + self.belief[1,:]*(1-self.actionFailsProb)\n",
    "        \n",
    "            self.belief = newBelief\n",
    "                \n",
    "    def measurementUpdate(self, measurement):\n",
    "        \"\"\"\n",
    "        Updates the measurement based on Bayes' filter\n",
    "        \n",
    "        Variables:\n",
    "        prior -- previous belief\n",
    "        posterior -- new belief\n",
    "        measurement -- the most recent measurement\n",
    "        \"\"\"\n",
    "        \n",
    "        prior = self.belief\n",
    "        likelihood = (self.senseFailsProb*np.not_equal(measurement, self.map, dtype=int) +\n",
    "                      (1 - self.senseFailsProb)*np.equal(measurement, self.map, dtype=int))\n",
    "        posterior = prior*likelihood\n",
    "        marginal = np.sum(posterior)\n",
    "        self.belief = posterior/marginal"
   ]
  },
  {
   "cell_type": "markdown",
   "metadata": {},
   "source": [
    "## 3 - Main Loop"
   ]
  },
  {
   "cell_type": "code",
   "execution_count": 29,
   "metadata": {},
   "outputs": [],
   "source": [
    "def main():\n",
    "    world = GridWorld()\n",
    "    estimator = StateEstimator(world)\n",
    "    \n",
    "    # Using the occupancy map, move the robot right 3, down 1, and left 1\n",
    "    ### START CODE HERE ### (~1 line of code)\n",
    "    for indexAction,action in enumerate([\"r\"]*3 + [\"d\"] + [\"l\"]):\n",
    "    ### END CODE HERE ###\n",
    "        measurement = world.sense()\n",
    "        estimator.measurementUpdate(measurement)\n",
    "        \n",
    "        world.step(action)\n",
    "        estimator.actionUpdate(action)\n",
    "        \n",
    "        print(\"Estimate after move %d:\" % (indexAction+1))\n",
    "        print(\"\\n\")\n",
    "        ax = plt.gca()\n",
    "        ax.set_yticks(np.arange(0, 3, 1));\n",
    "        extent = (0, positionMap.shape[1], positionMap.shape[0], 0)\n",
    "        plt.imshow(estimator.belief, extent=extent,cmap='binary', interpolation='nearest')\n",
    "        plt.grid(color='w', linestyle='-', linewidth=2)\n",
    "        plt.show()\n",
    "        print(estimator.belief)\n",
    "        print(\"\\n\")\n",
    "        \n",
    "    print(\"Sum of the probabilities:\\n\")\n",
    "    \n",
    "    # Show that the sum of the estimates is equal to 1\n",
    "    ### START CODE HERE ### (≈ 1 line of code)\n",
    "    print(np.sum(estimator.belief))\n",
    "    ### END CODE HERE ###"
   ]
  },
  {
   "cell_type": "code",
   "execution_count": 30,
   "metadata": {},
   "outputs": [
    {
     "name": "stdout",
     "output_type": "stream",
     "text": [
      "Estimate after move 1:\n",
      "\n",
      "\n"
     ]
    },
    {
     "data": {
      "image/png": "[encoded data removed]",
      "text/plain": [
       "<Figure size 432x288 with 1 Axes>"
      ]
     },
     "metadata": {
      "needs_background": "light"
     },
     "output_type": "display_data"
    },
    {
     "name": "stdout",
     "output_type": "stream",
     "text": [
      "[[0.001 0.01  0.018 0.092 0.092 0.093]\n",
      " [0.009 0.092 0.084 0.01  0.018 0.093]\n",
      " [0.009 0.092 0.084 0.018 0.084 0.101]]\n",
      "\n",
      "\n",
      "Estimate after move 2:\n",
      "\n",
      "\n"
     ]
    },
    {
     "data": {
      "image/png": "[encoded data removed]",
      "text/plain": [
       "<Figure size 432x288 with 1 Axes>"
      ]
     },
     "metadata": {
      "needs_background": "light"
     },
     "output_type": "display_data"
    },
    {
     "name": "stdout",
     "output_type": "stream",
     "text": [
      "[[1.913e-05 3.634e-04 4.820e-03 4.338e-02 1.549e-01 1.568e-01]\n",
      " [1.549e-03 2.944e-02 1.410e-01 1.431e-02 4.820e-03 4.529e-02]\n",
      " [1.549e-03 2.944e-02 1.410e-01 1.721e-02 2.946e-02 1.845e-01]]\n",
      "\n",
      "\n",
      "Estimate after move 3:\n",
      "\n",
      "\n"
     ]
    },
    {
     "data": {
      "image/png": "[encoded data removed]",
      "text/plain": [
       "<Figure size 432x288 with 1 Axes>"
      ]
     },
     "metadata": {
      "needs_background": "light"
     },
     "output_type": "display_data"
    },
    {
     "name": "stdout",
     "output_type": "stream",
     "text": [
      "[[3.294e-06 9.223e-05 6.555e-04 1.660e-03 1.043e-02 2.968e-01]\n",
      " [2.964e-05 8.300e-04 2.935e-02 2.210e-01 2.227e-02 7.883e-02]\n",
      " [2.964e-05 8.300e-04 2.935e-02 2.189e-01 8.037e-03 8.096e-02]]\n",
      "\n",
      "\n",
      "Estimate after move 4:\n",
      "\n",
      "\n"
     ]
    },
    {
     "data": {
      "image/png": "[encoded data removed]",
      "text/plain": [
       "<Figure size 432x288 with 1 Axes>"
      ]
     },
     "metadata": {
      "needs_background": "light"
     },
     "output_type": "display_data"
    },
    {
     "name": "stdout",
     "output_type": "stream",
     "text": [
      "[[4.700e-07 1.316e-05 1.039e-05 2.632e-05 1.654e-04 4.235e-02]\n",
      " [4.700e-06 1.316e-04 4.282e-03 3.177e-02 1.842e-03 3.924e-01]\n",
      " [8.930e-06 2.500e-04 7.957e-02 3.185e-01 1.464e-02 1.141e-01]]\n",
      "\n",
      "\n",
      "Estimate after move 5:\n",
      "\n",
      "\n"
     ]
    },
    {
     "data": {
      "image/png": "[encoded data removed]",
      "text/plain": [
       "<Figure size 432x288 with 1 Axes>"
      ]
     },
     "metadata": {
      "needs_background": "light"
     },
     "output_type": "display_data"
    },
    {
     "name": "stdout",
     "output_type": "stream",
     "text": [
      "[[2.749e-06 1.908e-05 4.967e-05 3.044e-04 8.540e-03 9.452e-04]\n",
      " [2.474e-04 8.866e-04 6.478e-03 4.039e-03 7.919e-02 8.758e-03]\n",
      " [4.700e-04 1.604e-02 5.776e-01 6.693e-02 2.066e-01 2.291e-02]]\n",
      "\n",
      "\n",
      "Sum of the probabilities:\n",
      "\n",
      "1.0\n"
     ]
    }
   ],
   "source": [
    "main()"
   ]
  },
  {
   "cell_type": "markdown",
   "metadata": {},
   "source": [
    "**Tasks to complete:**\n",
    "* Try changing the probabilities the sensor and action fails, how does this affect the robot's understanding of where it is?\n",
    "* In the __init__ function in the StateEstimator class, try changing from the occupancy map to the grid map. How does this change the robot's understanding of where it is?\n"
   ]
  },
  {
   "cell_type": "markdown",
   "metadata": {},
   "source": [
    "**References:**\n",
    "\n",
    "Thrun, S., Burgard, W. and Fox, D., 2005. Probabilistic robotics. MIT press."
   ]
  }
 ],
 "metadata": {
  "kernelspec": {
   "display_name": "Python 3",
   "language": "python",
   "name": "python3"
  },
  "language_info": {
   "codemirror_mode": {
    "name": "ipython",
    "version": 3
   },
   "file_extension": ".py",
   "mimetype": "text/x-python",
   "name": "python",
   "nbconvert_exporter": "python",
   "pygments_lexer": "ipython3",
   "version": "3.7.3"
  }
 },
 "nbformat": 4,
 "nbformat_minor": 2
}
